{
 "cells": [
  {
   "cell_type": "code",
   "execution_count": null,
   "id": "initial_id",
   "metadata": {
    "collapsed": true
   },
   "outputs": [],
   "source": [
    "import json\n",
    "import pandas as pd\n",
    "\n",
    "INPUT_FILE = \"Dataset/MATH-500/test.jsonl\"  \n",
    "OUTPUT_FILE = \"Dataset/MATH-500/math500_processed.csv\"\n",
    "\n",
    "data = []\n",
    "\n",
    "with open(INPUT_FILE, \"r\", encoding=\"utf-8\") as f:\n",
    "    for line in f:\n",
    "        line = line.strip()\n",
    "        if not line:\n",
    "            continue  # Skip empty lines\n",
    "\n",
    "        try:\n",
    "            item = json.loads(line)\n",
    "        except json.JSONDecodeError:\n",
    "            print(f\"Skipping invalid JSON line: {line[:50]}\")\n",
    "            continue\n",
    "\n",
    "        # Clean and extract relevant fields\n",
    "        record = {\n",
    "            \"unique_id\": item.get(\"unique_id\", \"\").strip(),\n",
    "            \"subject\": item.get(\"subject\", \"\").strip(),\n",
    "            \"level\": item.get(\"level\", \"\"),\n",
    "            \"problem\": item.get(\"problem\", \"\").strip(),\n",
    "            \"solution\": item.get(\"solution\", \"\").strip(),\n",
    "            \"answer\": item.get(\"answer\", \"\").strip(),\n",
    "        }\n",
    "        data.append(record)\n",
    "\n",
    "# Convert to DataFrame and save as CSV\n",
    "df = pd.DataFrame(data)\n",
    "df.to_csv(OUTPUT_FILE, index=False)\n",
    "print(f\"Saved {len(df)} rows to {OUTPUT_FILE}\")\n"
   ]
  }
 ],
 "metadata": {
  "kernelspec": {
   "display_name": "Python 3",
   "language": "python",
   "name": "python3"
  },
  "language_info": {
   "codemirror_mode": {
    "name": "ipython",
    "version": 2
   },
   "file_extension": ".py",
   "mimetype": "text/x-python",
   "name": "python",
   "nbconvert_exporter": "python",
   "pygments_lexer": "ipython2",
   "version": "2.7.6"
  }
 },
 "nbformat": 4,
 "nbformat_minor": 5
}
